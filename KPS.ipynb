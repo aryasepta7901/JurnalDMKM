{
 "cells": [
  {
   "cell_type": "markdown",
   "metadata": {},
   "source": [
    "## Import Package"
   ]
  },
  {
   "cell_type": "code",
   "execution_count": 2,
   "metadata": {},
   "outputs": [],
   "source": [
    "import pandas as pd\n",
    "import matplotlib.pyplot as plt\n",
    "import seaborn as sns\n",
    "from sklearn.model_selection import GridSearchCV   \n",
    "from imblearn.under_sampling import RandomUnderSampler\n",
    "from collections import Counter\n",
    "from imblearn.over_sampling import SMOTE\n",
    "from imblearn.pipeline import Pipeline\n",
    "from sklearn.model_selection import cross_val_score\n",
    "from numpy import mean\n"
   ]
  },
  {
   "cell_type": "markdown",
   "metadata": {},
   "source": [
    "## Import Data"
   ]
  },
  {
   "cell_type": "code",
   "execution_count": 3,
   "metadata": {},
   "outputs": [],
   "source": [
    "df = pd.read_spss('Data.sav')"
   ]
  },
  {
   "cell_type": "code",
   "execution_count": 4,
   "metadata": {},
   "outputs": [
    {
     "data": {
      "text/html": [
       "<div>\n",
       "<style scoped>\n",
       "    .dataframe tbody tr th:only-of-type {\n",
       "        vertical-align: middle;\n",
       "    }\n",
       "\n",
       "    .dataframe tbody tr th {\n",
       "        vertical-align: top;\n",
       "    }\n",
       "\n",
       "    .dataframe thead th {\n",
       "        text-align: right;\n",
       "    }\n",
       "</style>\n",
       "<table border=\"1\" class=\"dataframe\">\n",
       "  <thead>\n",
       "    <tr style=\"text-align: right;\">\n",
       "      <th></th>\n",
       "      <th>r301</th>\n",
       "      <th>r102</th>\n",
       "      <th>Y</th>\n",
       "      <th>r1608</th>\n",
       "      <th>r1609</th>\n",
       "      <th>r1611a</th>\n",
       "      <th>r1618a</th>\n",
       "      <th>r1619</th>\n",
       "      <th>r1610a</th>\n",
       "    </tr>\n",
       "  </thead>\n",
       "  <tbody>\n",
       "    <tr>\n",
       "      <th>0</th>\n",
       "      <td>3.0</td>\n",
       "      <td>1.0</td>\n",
       "      <td>2.0</td>\n",
       "      <td>1.0</td>\n",
       "      <td>2.0</td>\n",
       "      <td>10.0</td>\n",
       "      <td>1.0</td>\n",
       "      <td>7.0</td>\n",
       "      <td>1.0</td>\n",
       "    </tr>\n",
       "    <tr>\n",
       "      <th>1</th>\n",
       "      <td>2.0</td>\n",
       "      <td>1.0</td>\n",
       "      <td>2.0</td>\n",
       "      <td>1.0</td>\n",
       "      <td>6.0</td>\n",
       "      <td>10.0</td>\n",
       "      <td>1.0</td>\n",
       "      <td>7.0</td>\n",
       "      <td>1.0</td>\n",
       "    </tr>\n",
       "    <tr>\n",
       "      <th>2</th>\n",
       "      <td>7.0</td>\n",
       "      <td>1.0</td>\n",
       "      <td>2.0</td>\n",
       "      <td>1.0</td>\n",
       "      <td>2.0</td>\n",
       "      <td>2.0</td>\n",
       "      <td>1.0</td>\n",
       "      <td>7.0</td>\n",
       "      <td>1.0</td>\n",
       "    </tr>\n",
       "    <tr>\n",
       "      <th>3</th>\n",
       "      <td>8.0</td>\n",
       "      <td>1.0</td>\n",
       "      <td>2.0</td>\n",
       "      <td>1.0</td>\n",
       "      <td>6.0</td>\n",
       "      <td>10.0</td>\n",
       "      <td>1.0</td>\n",
       "      <td>7.0</td>\n",
       "      <td>1.0</td>\n",
       "    </tr>\n",
       "    <tr>\n",
       "      <th>4</th>\n",
       "      <td>3.0</td>\n",
       "      <td>1.0</td>\n",
       "      <td>2.0</td>\n",
       "      <td>1.0</td>\n",
       "      <td>2.0</td>\n",
       "      <td>3.0</td>\n",
       "      <td>1.0</td>\n",
       "      <td>7.0</td>\n",
       "      <td>1.0</td>\n",
       "    </tr>\n",
       "    <tr>\n",
       "      <th>...</th>\n",
       "      <td>...</td>\n",
       "      <td>...</td>\n",
       "      <td>...</td>\n",
       "      <td>...</td>\n",
       "      <td>...</td>\n",
       "      <td>...</td>\n",
       "      <td>...</td>\n",
       "      <td>...</td>\n",
       "      <td>...</td>\n",
       "    </tr>\n",
       "    <tr>\n",
       "      <th>3976</th>\n",
       "      <td>1.0</td>\n",
       "      <td>71.0</td>\n",
       "      <td>2.0</td>\n",
       "      <td>1.0</td>\n",
       "      <td>6.0</td>\n",
       "      <td>2.0</td>\n",
       "      <td>1.0</td>\n",
       "      <td>0.0</td>\n",
       "      <td>1.0</td>\n",
       "    </tr>\n",
       "    <tr>\n",
       "      <th>3977</th>\n",
       "      <td>3.0</td>\n",
       "      <td>71.0</td>\n",
       "      <td>2.0</td>\n",
       "      <td>1.0</td>\n",
       "      <td>4.0</td>\n",
       "      <td>2.0</td>\n",
       "      <td>1.0</td>\n",
       "      <td>7.0</td>\n",
       "      <td>1.0</td>\n",
       "    </tr>\n",
       "    <tr>\n",
       "      <th>3978</th>\n",
       "      <td>4.0</td>\n",
       "      <td>71.0</td>\n",
       "      <td>2.0</td>\n",
       "      <td>1.0</td>\n",
       "      <td>6.0</td>\n",
       "      <td>2.0</td>\n",
       "      <td>1.0</td>\n",
       "      <td>7.0</td>\n",
       "      <td>1.0</td>\n",
       "    </tr>\n",
       "    <tr>\n",
       "      <th>3979</th>\n",
       "      <td>2.0</td>\n",
       "      <td>71.0</td>\n",
       "      <td>2.0</td>\n",
       "      <td>3.0</td>\n",
       "      <td>5.0</td>\n",
       "      <td>2.0</td>\n",
       "      <td>1.0</td>\n",
       "      <td>7.0</td>\n",
       "      <td>1.0</td>\n",
       "    </tr>\n",
       "    <tr>\n",
       "      <th>3980</th>\n",
       "      <td>3.0</td>\n",
       "      <td>71.0</td>\n",
       "      <td>1.0</td>\n",
       "      <td>1.0</td>\n",
       "      <td>6.0</td>\n",
       "      <td>2.0</td>\n",
       "      <td>1.0</td>\n",
       "      <td>0.0</td>\n",
       "      <td>1.0</td>\n",
       "    </tr>\n",
       "  </tbody>\n",
       "</table>\n",
       "<p>3981 rows × 9 columns</p>\n",
       "</div>"
      ],
      "text/plain": [
       "      r301  r102    Y  r1608  r1609  r1611a  r1618a  r1619  r1610a\n",
       "0      3.0   1.0  2.0    1.0    2.0    10.0     1.0    7.0     1.0\n",
       "1      2.0   1.0  2.0    1.0    6.0    10.0     1.0    7.0     1.0\n",
       "2      7.0   1.0  2.0    1.0    2.0     2.0     1.0    7.0     1.0\n",
       "3      8.0   1.0  2.0    1.0    6.0    10.0     1.0    7.0     1.0\n",
       "4      3.0   1.0  2.0    1.0    2.0     3.0     1.0    7.0     1.0\n",
       "...    ...   ...  ...    ...    ...     ...     ...    ...     ...\n",
       "3976   1.0  71.0  2.0    1.0    6.0     2.0     1.0    0.0     1.0\n",
       "3977   3.0  71.0  2.0    1.0    4.0     2.0     1.0    7.0     1.0\n",
       "3978   4.0  71.0  2.0    1.0    6.0     2.0     1.0    7.0     1.0\n",
       "3979   2.0  71.0  2.0    3.0    5.0     2.0     1.0    7.0     1.0\n",
       "3980   3.0  71.0  1.0    1.0    6.0     2.0     1.0    0.0     1.0\n",
       "\n",
       "[3981 rows x 9 columns]"
      ]
     },
     "execution_count": 4,
     "metadata": {},
     "output_type": "execute_result"
    }
   ],
   "source": [
    "df"
   ]
  },
  {
   "cell_type": "markdown",
   "metadata": {},
   "source": [
    "## Preprosessing"
   ]
  },
  {
   "cell_type": "markdown",
   "metadata": {},
   "source": [
    "### Cek Missing Value"
   ]
  },
  {
   "cell_type": "code",
   "execution_count": 5,
   "metadata": {},
   "outputs": [
    {
     "data": {
      "text/plain": [
       "r301      0\n",
       "r102      0\n",
       "Y         0\n",
       "r1608     0\n",
       "r1609     0\n",
       "r1611a    0\n",
       "r1618a    0\n",
       "r1619     0\n",
       "r1610a    0\n",
       "dtype: int64"
      ]
     },
     "execution_count": 5,
     "metadata": {},
     "output_type": "execute_result"
    }
   ],
   "source": [
    "df.isnull().sum()"
   ]
  },
  {
   "cell_type": "markdown",
   "metadata": {},
   "source": [
    "## Exploratory Data  Analysis"
   ]
  },
  {
   "cell_type": "code",
   "execution_count": 6,
   "metadata": {},
   "outputs": [
    {
     "data": {
      "text/plain": [
       "2.0    3173\n",
       "1.0     808\n",
       "Name: Y, dtype: int64"
      ]
     },
     "execution_count": 6,
     "metadata": {},
     "output_type": "execute_result"
    }
   ],
   "source": [
    "df.Y.value_counts()"
   ]
  },
  {
   "cell_type": "code",
   "execution_count": 7,
   "metadata": {},
   "outputs": [
    {
     "data": {
      "text/plain": [
       "[]"
      ]
     },
     "execution_count": 7,
     "metadata": {},
     "output_type": "execute_result"
    },
    {
     "data": {
      "image/png": "[encoded data removed]",
      "text/plain": [
       "<Figure size 432x288 with 1 Axes>"
      ]
     },
     "metadata": {
      "needs_background": "light"
     },
     "output_type": "display_data"
    }
   ],
   "source": [
    "sns.countplot(x='Y', data=df)\n",
    "plt.plot()"
   ]
  },
  {
   "cell_type": "markdown",
   "metadata": {},
   "source": [
    "#### Note : 1 : Menerima Kartu KPS , 2: Tidak  Menerima Kartu KPS"
   ]
  },
  {
   "cell_type": "code",
   "execution_count": 8,
   "metadata": {},
   "outputs": [
    {
     "data": {
      "text/html": [
       "<div>\n",
       "<style scoped>\n",
       "    .dataframe tbody tr th:only-of-type {\n",
       "        vertical-align: middle;\n",
       "    }\n",
       "\n",
       "    .dataframe tbody tr th {\n",
       "        vertical-align: top;\n",
       "    }\n",
       "\n",
       "    .dataframe thead th {\n",
       "        text-align: right;\n",
       "    }\n",
       "</style>\n",
       "<table border=\"1\" class=\"dataframe\">\n",
       "  <thead>\n",
       "    <tr style=\"text-align: right;\">\n",
       "      <th></th>\n",
       "      <th>r301</th>\n",
       "      <th>r102</th>\n",
       "      <th>Y</th>\n",
       "      <th>r1608</th>\n",
       "      <th>r1609</th>\n",
       "      <th>r1611a</th>\n",
       "      <th>r1618a</th>\n",
       "      <th>r1619</th>\n",
       "      <th>r1610a</th>\n",
       "    </tr>\n",
       "  </thead>\n",
       "  <tbody>\n",
       "    <tr>\n",
       "      <th>0</th>\n",
       "      <td>3.0</td>\n",
       "      <td>1.0</td>\n",
       "      <td>2.0</td>\n",
       "      <td>1.0</td>\n",
       "      <td>2.0</td>\n",
       "      <td>10.0</td>\n",
       "      <td>1.0</td>\n",
       "      <td>7.0</td>\n",
       "      <td>1.0</td>\n",
       "    </tr>\n",
       "    <tr>\n",
       "      <th>1</th>\n",
       "      <td>2.0</td>\n",
       "      <td>1.0</td>\n",
       "      <td>2.0</td>\n",
       "      <td>1.0</td>\n",
       "      <td>6.0</td>\n",
       "      <td>10.0</td>\n",
       "      <td>1.0</td>\n",
       "      <td>7.0</td>\n",
       "      <td>1.0</td>\n",
       "    </tr>\n",
       "    <tr>\n",
       "      <th>2</th>\n",
       "      <td>7.0</td>\n",
       "      <td>1.0</td>\n",
       "      <td>2.0</td>\n",
       "      <td>1.0</td>\n",
       "      <td>2.0</td>\n",
       "      <td>2.0</td>\n",
       "      <td>1.0</td>\n",
       "      <td>7.0</td>\n",
       "      <td>1.0</td>\n",
       "    </tr>\n",
       "    <tr>\n",
       "      <th>3</th>\n",
       "      <td>8.0</td>\n",
       "      <td>1.0</td>\n",
       "      <td>2.0</td>\n",
       "      <td>1.0</td>\n",
       "      <td>6.0</td>\n",
       "      <td>10.0</td>\n",
       "      <td>1.0</td>\n",
       "      <td>7.0</td>\n",
       "      <td>1.0</td>\n",
       "    </tr>\n",
       "    <tr>\n",
       "      <th>4</th>\n",
       "      <td>3.0</td>\n",
       "      <td>1.0</td>\n",
       "      <td>2.0</td>\n",
       "      <td>1.0</td>\n",
       "      <td>2.0</td>\n",
       "      <td>3.0</td>\n",
       "      <td>1.0</td>\n",
       "      <td>7.0</td>\n",
       "      <td>1.0</td>\n",
       "    </tr>\n",
       "    <tr>\n",
       "      <th>...</th>\n",
       "      <td>...</td>\n",
       "      <td>...</td>\n",
       "      <td>...</td>\n",
       "      <td>...</td>\n",
       "      <td>...</td>\n",
       "      <td>...</td>\n",
       "      <td>...</td>\n",
       "      <td>...</td>\n",
       "      <td>...</td>\n",
       "    </tr>\n",
       "    <tr>\n",
       "      <th>3976</th>\n",
       "      <td>1.0</td>\n",
       "      <td>71.0</td>\n",
       "      <td>2.0</td>\n",
       "      <td>1.0</td>\n",
       "      <td>6.0</td>\n",
       "      <td>2.0</td>\n",
       "      <td>1.0</td>\n",
       "      <td>0.0</td>\n",
       "      <td>1.0</td>\n",
       "    </tr>\n",
       "    <tr>\n",
       "      <th>3977</th>\n",
       "      <td>3.0</td>\n",
       "      <td>71.0</td>\n",
       "      <td>2.0</td>\n",
       "      <td>1.0</td>\n",
       "      <td>4.0</td>\n",
       "      <td>2.0</td>\n",
       "      <td>1.0</td>\n",
       "      <td>7.0</td>\n",
       "      <td>1.0</td>\n",
       "    </tr>\n",
       "    <tr>\n",
       "      <th>3978</th>\n",
       "      <td>4.0</td>\n",
       "      <td>71.0</td>\n",
       "      <td>2.0</td>\n",
       "      <td>1.0</td>\n",
       "      <td>6.0</td>\n",
       "      <td>2.0</td>\n",
       "      <td>1.0</td>\n",
       "      <td>7.0</td>\n",
       "      <td>1.0</td>\n",
       "    </tr>\n",
       "    <tr>\n",
       "      <th>3979</th>\n",
       "      <td>2.0</td>\n",
       "      <td>71.0</td>\n",
       "      <td>2.0</td>\n",
       "      <td>3.0</td>\n",
       "      <td>5.0</td>\n",
       "      <td>2.0</td>\n",
       "      <td>1.0</td>\n",
       "      <td>7.0</td>\n",
       "      <td>1.0</td>\n",
       "    </tr>\n",
       "    <tr>\n",
       "      <th>3980</th>\n",
       "      <td>3.0</td>\n",
       "      <td>71.0</td>\n",
       "      <td>1.0</td>\n",
       "      <td>1.0</td>\n",
       "      <td>6.0</td>\n",
       "      <td>2.0</td>\n",
       "      <td>1.0</td>\n",
       "      <td>0.0</td>\n",
       "      <td>1.0</td>\n",
       "    </tr>\n",
       "  </tbody>\n",
       "</table>\n",
       "<p>3981 rows × 9 columns</p>\n",
       "</div>"
      ],
      "text/plain": [
       "      r301  r102    Y  r1608  r1609  r1611a  r1618a  r1619  r1610a\n",
       "0      3.0   1.0  2.0    1.0    2.0    10.0     1.0    7.0     1.0\n",
       "1      2.0   1.0  2.0    1.0    6.0    10.0     1.0    7.0     1.0\n",
       "2      7.0   1.0  2.0    1.0    2.0     2.0     1.0    7.0     1.0\n",
       "3      8.0   1.0  2.0    1.0    6.0    10.0     1.0    7.0     1.0\n",
       "4      3.0   1.0  2.0    1.0    2.0     3.0     1.0    7.0     1.0\n",
       "...    ...   ...  ...    ...    ...     ...     ...    ...     ...\n",
       "3976   1.0  71.0  2.0    1.0    6.0     2.0     1.0    0.0     1.0\n",
       "3977   3.0  71.0  2.0    1.0    4.0     2.0     1.0    7.0     1.0\n",
       "3978   4.0  71.0  2.0    1.0    6.0     2.0     1.0    7.0     1.0\n",
       "3979   2.0  71.0  2.0    3.0    5.0     2.0     1.0    7.0     1.0\n",
       "3980   3.0  71.0  1.0    1.0    6.0     2.0     1.0    0.0     1.0\n",
       "\n",
       "[3981 rows x 9 columns]"
      ]
     },
     "execution_count": 8,
     "metadata": {},
     "output_type": "execute_result"
    }
   ],
   "source": [
    "df"
   ]
  },
  {
   "cell_type": "code",
   "execution_count": 9,
   "metadata": {},
   "outputs": [
    {
     "data": {
      "text/plain": [
       "Index(['r1608', 'r1609', 'r1611a', 'r1618a', 'r1619', 'r1610a'], dtype='object')"
      ]
     },
     "execution_count": 9,
     "metadata": {},
     "output_type": "execute_result"
    }
   ],
   "source": [
    "df.columns[3:9]"
   ]
  },
  {
   "cell_type": "markdown",
   "metadata": {},
   "source": [
    "####  Pemeriksaan sebaran nilai data pada tiap atribut/variabel untuk masing-masing kelas dengan box-plot\n"
   ]
  },
  {
   "cell_type": "code",
   "execution_count": 10,
   "metadata": {},
   "outputs": [
    {
     "data": {
      "image/png": "[encoded data removed]",
      "text/plain": [
       "<Figure size 432x288 with 1 Axes>"
      ]
     },
     "metadata": {
      "needs_background": "light"
     },
     "output_type": "display_data"
    },
    {
     "data": {
      "image/png": "[encoded data removed]",
      "text/plain": [
       "<Figure size 432x288 with 1 Axes>"
      ]
     },
     "metadata": {
      "needs_background": "light"
     },
     "output_type": "display_data"
    },
    {
     "data": {
      "image/png": "[encoded data removed]",
      "text/plain": [
       "<Figure size 432x288 with 1 Axes>"
      ]
     },
     "metadata": {
      "needs_background": "light"
     },
     "output_type": "display_data"
    },
    {
     "data": {
      "image/png": "[encoded data removed]",
      "text/plain": [
       "<Figure size 432x288 with 1 Axes>"
      ]
     },
     "metadata": {
      "needs_background": "light"
     },
     "output_type": "display_data"
    },
    {
     "data": {
      "image/png": "[encoded data removed]",
      "text/plain": [
       "<Figure size 432x288 with 1 Axes>"
      ]
     },
     "metadata": {
      "needs_background": "light"
     },
     "output_type": "display_data"
    },
    {
     "data": {
      "text/plain": [
       "<Figure size 432x288 with 0 Axes>"
      ]
     },
     "metadata": {},
     "output_type": "display_data"
    }
   ],
   "source": [
    "l=list(df.columns[3:11])\n",
    "for i in range(len(l)-1):\n",
    "    sns.boxplot(x='Y',y=l[i], data=df, palette='winter')\n",
    "    plt.figure()"
   ]
  },
  {
   "cell_type": "code",
   "execution_count": 11,
   "metadata": {},
   "outputs": [
    {
     "data": {
      "text/html": [
       "<div>\n",
       "<style scoped>\n",
       "    .dataframe tbody tr th:only-of-type {\n",
       "        vertical-align: middle;\n",
       "    }\n",
       "\n",
       "    .dataframe tbody tr th {\n",
       "        vertical-align: top;\n",
       "    }\n",
       "\n",
       "    .dataframe thead th {\n",
       "        text-align: right;\n",
       "    }\n",
       "</style>\n",
       "<table border=\"1\" class=\"dataframe\">\n",
       "  <thead>\n",
       "    <tr style=\"text-align: right;\">\n",
       "      <th></th>\n",
       "      <th>r301</th>\n",
       "      <th>r102</th>\n",
       "      <th>Y</th>\n",
       "      <th>r1608</th>\n",
       "      <th>r1609</th>\n",
       "      <th>r1611a</th>\n",
       "      <th>r1618a</th>\n",
       "      <th>r1619</th>\n",
       "      <th>r1610a</th>\n",
       "    </tr>\n",
       "  </thead>\n",
       "  <tbody>\n",
       "    <tr>\n",
       "      <th>0</th>\n",
       "      <td>3.0</td>\n",
       "      <td>1.0</td>\n",
       "      <td>2.0</td>\n",
       "      <td>1.0</td>\n",
       "      <td>2.0</td>\n",
       "      <td>10.0</td>\n",
       "      <td>1.0</td>\n",
       "      <td>7.0</td>\n",
       "      <td>1.0</td>\n",
       "    </tr>\n",
       "    <tr>\n",
       "      <th>1</th>\n",
       "      <td>2.0</td>\n",
       "      <td>1.0</td>\n",
       "      <td>2.0</td>\n",
       "      <td>1.0</td>\n",
       "      <td>6.0</td>\n",
       "      <td>10.0</td>\n",
       "      <td>1.0</td>\n",
       "      <td>7.0</td>\n",
       "      <td>1.0</td>\n",
       "    </tr>\n",
       "    <tr>\n",
       "      <th>2</th>\n",
       "      <td>7.0</td>\n",
       "      <td>1.0</td>\n",
       "      <td>2.0</td>\n",
       "      <td>1.0</td>\n",
       "      <td>2.0</td>\n",
       "      <td>2.0</td>\n",
       "      <td>1.0</td>\n",
       "      <td>7.0</td>\n",
       "      <td>1.0</td>\n",
       "    </tr>\n",
       "    <tr>\n",
       "      <th>3</th>\n",
       "      <td>8.0</td>\n",
       "      <td>1.0</td>\n",
       "      <td>2.0</td>\n",
       "      <td>1.0</td>\n",
       "      <td>6.0</td>\n",
       "      <td>10.0</td>\n",
       "      <td>1.0</td>\n",
       "      <td>7.0</td>\n",
       "      <td>1.0</td>\n",
       "    </tr>\n",
       "    <tr>\n",
       "      <th>4</th>\n",
       "      <td>3.0</td>\n",
       "      <td>1.0</td>\n",
       "      <td>2.0</td>\n",
       "      <td>1.0</td>\n",
       "      <td>2.0</td>\n",
       "      <td>3.0</td>\n",
       "      <td>1.0</td>\n",
       "      <td>7.0</td>\n",
       "      <td>1.0</td>\n",
       "    </tr>\n",
       "    <tr>\n",
       "      <th>...</th>\n",
       "      <td>...</td>\n",
       "      <td>...</td>\n",
       "      <td>...</td>\n",
       "      <td>...</td>\n",
       "      <td>...</td>\n",
       "      <td>...</td>\n",
       "      <td>...</td>\n",
       "      <td>...</td>\n",
       "      <td>...</td>\n",
       "    </tr>\n",
       "    <tr>\n",
       "      <th>3976</th>\n",
       "      <td>1.0</td>\n",
       "      <td>71.0</td>\n",
       "      <td>2.0</td>\n",
       "      <td>1.0</td>\n",
       "      <td>6.0</td>\n",
       "      <td>2.0</td>\n",
       "      <td>1.0</td>\n",
       "      <td>0.0</td>\n",
       "      <td>1.0</td>\n",
       "    </tr>\n",
       "    <tr>\n",
       "      <th>3977</th>\n",
       "      <td>3.0</td>\n",
       "      <td>71.0</td>\n",
       "      <td>2.0</td>\n",
       "      <td>1.0</td>\n",
       "      <td>4.0</td>\n",
       "      <td>2.0</td>\n",
       "      <td>1.0</td>\n",
       "      <td>7.0</td>\n",
       "      <td>1.0</td>\n",
       "    </tr>\n",
       "    <tr>\n",
       "      <th>3978</th>\n",
       "      <td>4.0</td>\n",
       "      <td>71.0</td>\n",
       "      <td>2.0</td>\n",
       "      <td>1.0</td>\n",
       "      <td>6.0</td>\n",
       "      <td>2.0</td>\n",
       "      <td>1.0</td>\n",
       "      <td>7.0</td>\n",
       "      <td>1.0</td>\n",
       "    </tr>\n",
       "    <tr>\n",
       "      <th>3979</th>\n",
       "      <td>2.0</td>\n",
       "      <td>71.0</td>\n",
       "      <td>2.0</td>\n",
       "      <td>3.0</td>\n",
       "      <td>5.0</td>\n",
       "      <td>2.0</td>\n",
       "      <td>1.0</td>\n",
       "      <td>7.0</td>\n",
       "      <td>1.0</td>\n",
       "    </tr>\n",
       "    <tr>\n",
       "      <th>3980</th>\n",
       "      <td>3.0</td>\n",
       "      <td>71.0</td>\n",
       "      <td>1.0</td>\n",
       "      <td>1.0</td>\n",
       "      <td>6.0</td>\n",
       "      <td>2.0</td>\n",
       "      <td>1.0</td>\n",
       "      <td>0.0</td>\n",
       "      <td>1.0</td>\n",
       "    </tr>\n",
       "  </tbody>\n",
       "</table>\n",
       "<p>3981 rows × 9 columns</p>\n",
       "</div>"
      ],
      "text/plain": [
       "      r301  r102    Y  r1608  r1609  r1611a  r1618a  r1619  r1610a\n",
       "0      3.0   1.0  2.0    1.0    2.0    10.0     1.0    7.0     1.0\n",
       "1      2.0   1.0  2.0    1.0    6.0    10.0     1.0    7.0     1.0\n",
       "2      7.0   1.0  2.0    1.0    2.0     2.0     1.0    7.0     1.0\n",
       "3      8.0   1.0  2.0    1.0    6.0    10.0     1.0    7.0     1.0\n",
       "4      3.0   1.0  2.0    1.0    2.0     3.0     1.0    7.0     1.0\n",
       "...    ...   ...  ...    ...    ...     ...     ...    ...     ...\n",
       "3976   1.0  71.0  2.0    1.0    6.0     2.0     1.0    0.0     1.0\n",
       "3977   3.0  71.0  2.0    1.0    4.0     2.0     1.0    7.0     1.0\n",
       "3978   4.0  71.0  2.0    1.0    6.0     2.0     1.0    7.0     1.0\n",
       "3979   2.0  71.0  2.0    3.0    5.0     2.0     1.0    7.0     1.0\n",
       "3980   3.0  71.0  1.0    1.0    6.0     2.0     1.0    0.0     1.0\n",
       "\n",
       "[3981 rows x 9 columns]"
      ]
     },
     "execution_count": 11,
     "metadata": {},
     "output_type": "execute_result"
    }
   ],
   "source": [
    "df"
   ]
  },
  {
   "cell_type": "code",
   "execution_count": 12,
   "metadata": {},
   "outputs": [],
   "source": [
    "data_cor =df[[ 'r1608', 'r1609','r1611a','r1618a','r1619','r1610a']]"
   ]
  },
  {
   "cell_type": "code",
   "execution_count": 13,
   "metadata": {},
   "outputs": [],
   "source": [
    "correlation =data_cor.corr()"
   ]
  },
  {
   "cell_type": "code",
   "execution_count": 14,
   "metadata": {},
   "outputs": [
    {
     "data": {
      "text/html": [
       "<div>\n",
       "<style scoped>\n",
       "    .dataframe tbody tr th:only-of-type {\n",
       "        vertical-align: middle;\n",
       "    }\n",
       "\n",
       "    .dataframe tbody tr th {\n",
       "        vertical-align: top;\n",
       "    }\n",
       "\n",
       "    .dataframe thead th {\n",
       "        text-align: right;\n",
       "    }\n",
       "</style>\n",
       "<table border=\"1\" class=\"dataframe\">\n",
       "  <thead>\n",
       "    <tr style=\"text-align: right;\">\n",
       "      <th></th>\n",
       "      <th>r1608</th>\n",
       "      <th>r1609</th>\n",
       "      <th>r1611a</th>\n",
       "      <th>r1618a</th>\n",
       "      <th>r1619</th>\n",
       "      <th>r1610a</th>\n",
       "    </tr>\n",
       "  </thead>\n",
       "  <tbody>\n",
       "    <tr>\n",
       "      <th>r1608</th>\n",
       "      <td>1.000000</td>\n",
       "      <td>0.337644</td>\n",
       "      <td>0.256843</td>\n",
       "      <td>0.341563</td>\n",
       "      <td>0.299240</td>\n",
       "      <td>0.332820</td>\n",
       "    </tr>\n",
       "    <tr>\n",
       "      <th>r1609</th>\n",
       "      <td>0.337644</td>\n",
       "      <td>1.000000</td>\n",
       "      <td>0.294694</td>\n",
       "      <td>0.248501</td>\n",
       "      <td>0.339211</td>\n",
       "      <td>0.268127</td>\n",
       "    </tr>\n",
       "    <tr>\n",
       "      <th>r1611a</th>\n",
       "      <td>0.256843</td>\n",
       "      <td>0.294694</td>\n",
       "      <td>1.000000</td>\n",
       "      <td>0.396914</td>\n",
       "      <td>0.517281</td>\n",
       "      <td>0.323719</td>\n",
       "    </tr>\n",
       "    <tr>\n",
       "      <th>r1618a</th>\n",
       "      <td>0.341563</td>\n",
       "      <td>0.248501</td>\n",
       "      <td>0.396914</td>\n",
       "      <td>1.000000</td>\n",
       "      <td>0.508428</td>\n",
       "      <td>0.467680</td>\n",
       "    </tr>\n",
       "    <tr>\n",
       "      <th>r1619</th>\n",
       "      <td>0.299240</td>\n",
       "      <td>0.339211</td>\n",
       "      <td>0.517281</td>\n",
       "      <td>0.508428</td>\n",
       "      <td>1.000000</td>\n",
       "      <td>0.402663</td>\n",
       "    </tr>\n",
       "    <tr>\n",
       "      <th>r1610a</th>\n",
       "      <td>0.332820</td>\n",
       "      <td>0.268127</td>\n",
       "      <td>0.323719</td>\n",
       "      <td>0.467680</td>\n",
       "      <td>0.402663</td>\n",
       "      <td>1.000000</td>\n",
       "    </tr>\n",
       "  </tbody>\n",
       "</table>\n",
       "</div>"
      ],
      "text/plain": [
       "           r1608     r1609    r1611a    r1618a     r1619    r1610a\n",
       "r1608   1.000000  0.337644  0.256843  0.341563  0.299240  0.332820\n",
       "r1609   0.337644  1.000000  0.294694  0.248501  0.339211  0.268127\n",
       "r1611a  0.256843  0.294694  1.000000  0.396914  0.517281  0.323719\n",
       "r1618a  0.341563  0.248501  0.396914  1.000000  0.508428  0.467680\n",
       "r1619   0.299240  0.339211  0.517281  0.508428  1.000000  0.402663\n",
       "r1610a  0.332820  0.268127  0.323719  0.467680  0.402663  1.000000"
      ]
     },
     "execution_count": 14,
     "metadata": {},
     "output_type": "execute_result"
    }
   ],
   "source": [
    "correlation"
   ]
  },
  {
   "cell_type": "code",
   "execution_count": 15,
   "metadata": {},
   "outputs": [
    {
     "data": {
      "text/plain": [
       "<AxesSubplot:>"
      ]
     },
     "execution_count": 15,
     "metadata": {},
     "output_type": "execute_result"
    },
    {
     "data": {
      "image/png": "[encoded data removed]",
      "text/plain": [
       "<Figure size 432x288 with 2 Axes>"
      ]
     },
     "metadata": {
      "needs_background": "light"
     },
     "output_type": "display_data"
    }
   ],
   "source": [
    "sns.heatmap(correlation)\n"
   ]
  },
  {
   "cell_type": "markdown",
   "metadata": {},
   "source": [
    "## Split data"
   ]
  },
  {
   "cell_type": "code",
   "execution_count": 16,
   "metadata": {},
   "outputs": [
    {
     "data": {
      "text/html": [
       "<div>\n",
       "<style scoped>\n",
       "    .dataframe tbody tr th:only-of-type {\n",
       "        vertical-align: middle;\n",
       "    }\n",
       "\n",
       "    .dataframe tbody tr th {\n",
       "        vertical-align: top;\n",
       "    }\n",
       "\n",
       "    .dataframe thead th {\n",
       "        text-align: right;\n",
       "    }\n",
       "</style>\n",
       "<table border=\"1\" class=\"dataframe\">\n",
       "  <thead>\n",
       "    <tr style=\"text-align: right;\">\n",
       "      <th></th>\n",
       "      <th>r1608</th>\n",
       "      <th>r1609</th>\n",
       "      <th>r1611a</th>\n",
       "      <th>r1618a</th>\n",
       "      <th>r1619</th>\n",
       "      <th>r1610a</th>\n",
       "    </tr>\n",
       "  </thead>\n",
       "  <tbody>\n",
       "    <tr>\n",
       "      <th>0</th>\n",
       "      <td>1.0</td>\n",
       "      <td>2.0</td>\n",
       "      <td>10.0</td>\n",
       "      <td>1.0</td>\n",
       "      <td>7.0</td>\n",
       "      <td>1.0</td>\n",
       "    </tr>\n",
       "    <tr>\n",
       "      <th>1</th>\n",
       "      <td>1.0</td>\n",
       "      <td>6.0</td>\n",
       "      <td>10.0</td>\n",
       "      <td>1.0</td>\n",
       "      <td>7.0</td>\n",
       "      <td>1.0</td>\n",
       "    </tr>\n",
       "    <tr>\n",
       "      <th>2</th>\n",
       "      <td>1.0</td>\n",
       "      <td>2.0</td>\n",
       "      <td>2.0</td>\n",
       "      <td>1.0</td>\n",
       "      <td>7.0</td>\n",
       "      <td>1.0</td>\n",
       "    </tr>\n",
       "    <tr>\n",
       "      <th>3</th>\n",
       "      <td>1.0</td>\n",
       "      <td>6.0</td>\n",
       "      <td>10.0</td>\n",
       "      <td>1.0</td>\n",
       "      <td>7.0</td>\n",
       "      <td>1.0</td>\n",
       "    </tr>\n",
       "    <tr>\n",
       "      <th>4</th>\n",
       "      <td>1.0</td>\n",
       "      <td>2.0</td>\n",
       "      <td>3.0</td>\n",
       "      <td>1.0</td>\n",
       "      <td>7.0</td>\n",
       "      <td>1.0</td>\n",
       "    </tr>\n",
       "    <tr>\n",
       "      <th>...</th>\n",
       "      <td>...</td>\n",
       "      <td>...</td>\n",
       "      <td>...</td>\n",
       "      <td>...</td>\n",
       "      <td>...</td>\n",
       "      <td>...</td>\n",
       "    </tr>\n",
       "    <tr>\n",
       "      <th>3976</th>\n",
       "      <td>1.0</td>\n",
       "      <td>6.0</td>\n",
       "      <td>2.0</td>\n",
       "      <td>1.0</td>\n",
       "      <td>0.0</td>\n",
       "      <td>1.0</td>\n",
       "    </tr>\n",
       "    <tr>\n",
       "      <th>3977</th>\n",
       "      <td>1.0</td>\n",
       "      <td>4.0</td>\n",
       "      <td>2.0</td>\n",
       "      <td>1.0</td>\n",
       "      <td>7.0</td>\n",
       "      <td>1.0</td>\n",
       "    </tr>\n",
       "    <tr>\n",
       "      <th>3978</th>\n",
       "      <td>1.0</td>\n",
       "      <td>6.0</td>\n",
       "      <td>2.0</td>\n",
       "      <td>1.0</td>\n",
       "      <td>7.0</td>\n",
       "      <td>1.0</td>\n",
       "    </tr>\n",
       "    <tr>\n",
       "      <th>3979</th>\n",
       "      <td>3.0</td>\n",
       "      <td>5.0</td>\n",
       "      <td>2.0</td>\n",
       "      <td>1.0</td>\n",
       "      <td>7.0</td>\n",
       "      <td>1.0</td>\n",
       "    </tr>\n",
       "    <tr>\n",
       "      <th>3980</th>\n",
       "      <td>1.0</td>\n",
       "      <td>6.0</td>\n",
       "      <td>2.0</td>\n",
       "      <td>1.0</td>\n",
       "      <td>0.0</td>\n",
       "      <td>1.0</td>\n",
       "    </tr>\n",
       "  </tbody>\n",
       "</table>\n",
       "<p>3981 rows × 6 columns</p>\n",
       "</div>"
      ],
      "text/plain": [
       "      r1608  r1609  r1611a  r1618a  r1619  r1610a\n",
       "0       1.0    2.0    10.0     1.0    7.0     1.0\n",
       "1       1.0    6.0    10.0     1.0    7.0     1.0\n",
       "2       1.0    2.0     2.0     1.0    7.0     1.0\n",
       "3       1.0    6.0    10.0     1.0    7.0     1.0\n",
       "4       1.0    2.0     3.0     1.0    7.0     1.0\n",
       "...     ...    ...     ...     ...    ...     ...\n",
       "3976    1.0    6.0     2.0     1.0    0.0     1.0\n",
       "3977    1.0    4.0     2.0     1.0    7.0     1.0\n",
       "3978    1.0    6.0     2.0     1.0    7.0     1.0\n",
       "3979    3.0    5.0     2.0     1.0    7.0     1.0\n",
       "3980    1.0    6.0     2.0     1.0    0.0     1.0\n",
       "\n",
       "[3981 rows x 6 columns]"
      ]
     },
     "execution_count": 16,
     "metadata": {},
     "output_type": "execute_result"
    }
   ],
   "source": [
    "df.iloc[ :  ,3:10]"
   ]
  },
  {
   "cell_type": "code",
   "execution_count": 17,
   "metadata": {},
   "outputs": [],
   "source": [
    "x = df.iloc[ :  ,3:9]\n",
    "y = df.iloc[: , 2]"
   ]
  },
  {
   "cell_type": "code",
   "execution_count": 18,
   "metadata": {},
   "outputs": [
    {
     "data": {
      "text/plain": [
       "0       2.0\n",
       "1       2.0\n",
       "2       2.0\n",
       "3       2.0\n",
       "4       2.0\n",
       "       ... \n",
       "3976    2.0\n",
       "3977    2.0\n",
       "3978    2.0\n",
       "3979    2.0\n",
       "3980    1.0\n",
       "Name: Y, Length: 3981, dtype: float64"
      ]
     },
     "execution_count": 18,
     "metadata": {},
     "output_type": "execute_result"
    }
   ],
   "source": [
    "y"
   ]
  },
  {
   "cell_type": "code",
   "execution_count": 19,
   "metadata": {},
   "outputs": [
    {
     "data": {
      "text/html": [
       "<div>\n",
       "<style scoped>\n",
       "    .dataframe tbody tr th:only-of-type {\n",
       "        vertical-align: middle;\n",
       "    }\n",
       "\n",
       "    .dataframe tbody tr th {\n",
       "        vertical-align: top;\n",
       "    }\n",
       "\n",
       "    .dataframe thead th {\n",
       "        text-align: right;\n",
       "    }\n",
       "</style>\n",
       "<table border=\"1\" class=\"dataframe\">\n",
       "  <thead>\n",
       "    <tr style=\"text-align: right;\">\n",
       "      <th></th>\n",
       "      <th>r1608</th>\n",
       "      <th>r1609</th>\n",
       "      <th>r1611a</th>\n",
       "      <th>r1618a</th>\n",
       "      <th>r1619</th>\n",
       "      <th>r1610a</th>\n",
       "    </tr>\n",
       "  </thead>\n",
       "  <tbody>\n",
       "    <tr>\n",
       "      <th>0</th>\n",
       "      <td>1.0</td>\n",
       "      <td>2.0</td>\n",
       "      <td>10.0</td>\n",
       "      <td>1.0</td>\n",
       "      <td>7.0</td>\n",
       "      <td>1.0</td>\n",
       "    </tr>\n",
       "    <tr>\n",
       "      <th>1</th>\n",
       "      <td>1.0</td>\n",
       "      <td>6.0</td>\n",
       "      <td>10.0</td>\n",
       "      <td>1.0</td>\n",
       "      <td>7.0</td>\n",
       "      <td>1.0</td>\n",
       "    </tr>\n",
       "    <tr>\n",
       "      <th>2</th>\n",
       "      <td>1.0</td>\n",
       "      <td>2.0</td>\n",
       "      <td>2.0</td>\n",
       "      <td>1.0</td>\n",
       "      <td>7.0</td>\n",
       "      <td>1.0</td>\n",
       "    </tr>\n",
       "    <tr>\n",
       "      <th>3</th>\n",
       "      <td>1.0</td>\n",
       "      <td>6.0</td>\n",
       "      <td>10.0</td>\n",
       "      <td>1.0</td>\n",
       "      <td>7.0</td>\n",
       "      <td>1.0</td>\n",
       "    </tr>\n",
       "    <tr>\n",
       "      <th>4</th>\n",
       "      <td>1.0</td>\n",
       "      <td>2.0</td>\n",
       "      <td>3.0</td>\n",
       "      <td>1.0</td>\n",
       "      <td>7.0</td>\n",
       "      <td>1.0</td>\n",
       "    </tr>\n",
       "    <tr>\n",
       "      <th>...</th>\n",
       "      <td>...</td>\n",
       "      <td>...</td>\n",
       "      <td>...</td>\n",
       "      <td>...</td>\n",
       "      <td>...</td>\n",
       "      <td>...</td>\n",
       "    </tr>\n",
       "    <tr>\n",
       "      <th>3976</th>\n",
       "      <td>1.0</td>\n",
       "      <td>6.0</td>\n",
       "      <td>2.0</td>\n",
       "      <td>1.0</td>\n",
       "      <td>0.0</td>\n",
       "      <td>1.0</td>\n",
       "    </tr>\n",
       "    <tr>\n",
       "      <th>3977</th>\n",
       "      <td>1.0</td>\n",
       "      <td>4.0</td>\n",
       "      <td>2.0</td>\n",
       "      <td>1.0</td>\n",
       "      <td>7.0</td>\n",
       "      <td>1.0</td>\n",
       "    </tr>\n",
       "    <tr>\n",
       "      <th>3978</th>\n",
       "      <td>1.0</td>\n",
       "      <td>6.0</td>\n",
       "      <td>2.0</td>\n",
       "      <td>1.0</td>\n",
       "      <td>7.0</td>\n",
       "      <td>1.0</td>\n",
       "    </tr>\n",
       "    <tr>\n",
       "      <th>3979</th>\n",
       "      <td>3.0</td>\n",
       "      <td>5.0</td>\n",
       "      <td>2.0</td>\n",
       "      <td>1.0</td>\n",
       "      <td>7.0</td>\n",
       "      <td>1.0</td>\n",
       "    </tr>\n",
       "    <tr>\n",
       "      <th>3980</th>\n",
       "      <td>1.0</td>\n",
       "      <td>6.0</td>\n",
       "      <td>2.0</td>\n",
       "      <td>1.0</td>\n",
       "      <td>0.0</td>\n",
       "      <td>1.0</td>\n",
       "    </tr>\n",
       "  </tbody>\n",
       "</table>\n",
       "<p>3981 rows × 6 columns</p>\n",
       "</div>"
      ],
      "text/plain": [
       "      r1608  r1609  r1611a  r1618a  r1619  r1610a\n",
       "0       1.0    2.0    10.0     1.0    7.0     1.0\n",
       "1       1.0    6.0    10.0     1.0    7.0     1.0\n",
       "2       1.0    2.0     2.0     1.0    7.0     1.0\n",
       "3       1.0    6.0    10.0     1.0    7.0     1.0\n",
       "4       1.0    2.0     3.0     1.0    7.0     1.0\n",
       "...     ...    ...     ...     ...    ...     ...\n",
       "3976    1.0    6.0     2.0     1.0    0.0     1.0\n",
       "3977    1.0    4.0     2.0     1.0    7.0     1.0\n",
       "3978    1.0    6.0     2.0     1.0    7.0     1.0\n",
       "3979    3.0    5.0     2.0     1.0    7.0     1.0\n",
       "3980    1.0    6.0     2.0     1.0    0.0     1.0\n",
       "\n",
       "[3981 rows x 6 columns]"
      ]
     },
     "execution_count": 19,
     "metadata": {},
     "output_type": "execute_result"
    }
   ],
   "source": [
    "x"
   ]
  },
  {
   "cell_type": "markdown",
   "metadata": {},
   "source": [
    "## Pembentukan Model"
   ]
  },
  {
   "cell_type": "code",
   "execution_count": 20,
   "metadata": {},
   "outputs": [
    {
     "name": "stdout",
     "output_type": "stream",
     "text": [
      "X_train shape:  (2786, 6)\n",
      "Y_train shape:  (2786,)\n",
      "X_test shape:  (1195, 6)\n",
      "Y_test shape:  (1195,)\n"
     ]
    }
   ],
   "source": [
    "from sklearn.model_selection import train_test_split\n",
    "\n",
    "X_train, X_test, y_train, y_test = train_test_split(x, y, test_size = 0.30, random_state = 8)\n",
    "\n",
    "print(\"X_train shape: \", X_train.shape)\n",
    "print(\"Y_train shape: \", y_train.shape)\n",
    "print(\"X_test shape: \", X_test.shape)\n",
    "print(\"Y_test shape: \", y_test.shape)"
   ]
  },
  {
   "cell_type": "code",
   "execution_count": 21,
   "metadata": {},
   "outputs": [
    {
     "name": "stdout",
     "output_type": "stream",
     "text": [
      "Before oversampling:  Counter({2.0: 2235, 1.0: 551})\n"
     ]
    }
   ],
   "source": [
    "# summarize class distribution\n",
    "print(\"Before oversampling: \",Counter(y_train))\n"
   ]
  },
  {
   "cell_type": "markdown",
   "metadata": {},
   "source": [
    "### Oversampling"
   ]
  },
  {
   "cell_type": "code",
   "execution_count": 22,
   "metadata": {},
   "outputs": [
    {
     "name": "stdout",
     "output_type": "stream",
     "text": [
      "After oversampling:  Counter({2.0: 2235, 1.0: 2235})\n"
     ]
    }
   ],
   "source": [
    "#define oversampling strategy\n",
    "SMOTE = SMOTE()\n",
    "\n",
    "# fit and apply the transform\n",
    "X_train_SMOTE, y_train_SMOTE = SMOTE.fit_resample(X_train, y_train)\n",
    "\n",
    "# summarize class distribution\n",
    "print(\"After oversampling: \",Counter(y_train_SMOTE))"
   ]
  },
  {
   "cell_type": "markdown",
   "metadata": {},
   "source": [
    "### SVM"
   ]
  },
  {
   "cell_type": "code",
   "execution_count": 23,
   "metadata": {},
   "outputs": [],
   "source": [
    "from sklearn.svm import SVC\n",
    "\n",
    "svc = SVC()"
   ]
  },
  {
   "cell_type": "code",
   "execution_count": 24,
   "metadata": {},
   "outputs": [
    {
     "data": {
      "text/plain": [
       "SVC()"
      ]
     },
     "execution_count": 24,
     "metadata": {},
     "output_type": "execute_result"
    }
   ],
   "source": [
    "svc.fit(X_train_SMOTE, y_train_SMOTE)"
   ]
  },
  {
   "cell_type": "code",
   "execution_count": 25,
   "metadata": {},
   "outputs": [
    {
     "data": {
      "text/plain": [
       "array([1., 1., 1., ..., 1., 1., 1.])"
      ]
     },
     "execution_count": 25,
     "metadata": {},
     "output_type": "execute_result"
    }
   ],
   "source": [
    "y_pred_svc = svc.predict(X_test)\n",
    "y_pred_svc"
   ]
  },
  {
   "cell_type": "code",
   "execution_count": 26,
   "metadata": {},
   "outputs": [
    {
     "data": {
      "text/plain": [
       "array([[206,  51],\n",
       "       [489, 449]], dtype=int64)"
      ]
     },
     "execution_count": 26,
     "metadata": {},
     "output_type": "execute_result"
    }
   ],
   "source": [
    "from sklearn.metrics import confusion_matrix  \n",
    "confusion_matrix(y_test, y_pred_svc)"
   ]
  },
  {
   "cell_type": "code",
   "execution_count": 27,
   "metadata": {},
   "outputs": [
    {
     "data": {
      "image/png": "[encoded data removed]",
      "text/plain": [
       "<Figure size 576x360 with 2 Axes>"
      ]
     },
     "metadata": {
      "needs_background": "light"
     },
     "output_type": "display_data"
    }
   ],
   "source": [
    "import seaborn as sns\n",
    "f, ax = plt.subplots(figsize=(8,5))\n",
    "sns.heatmap(confusion_matrix(y_test, y_pred_svc), annot=True, fmt=\".0f\", ax=ax)\n",
    "plt.xlabel(\"y_head\")\n",
    "plt.ylabel(\"y_true\")\n",
    "plt.show()"
   ]
  },
  {
   "cell_type": "code",
   "execution_count": 28,
   "metadata": {},
   "outputs": [
    {
     "name": "stdout",
     "output_type": "stream",
     "text": [
      "              precision    recall  f1-score   support\n",
      "\n",
      "         1.0       0.30      0.80      0.43       257\n",
      "         2.0       0.90      0.48      0.62       938\n",
      "\n",
      "    accuracy                           0.55      1195\n",
      "   macro avg       0.60      0.64      0.53      1195\n",
      "weighted avg       0.77      0.55      0.58      1195\n",
      "\n"
     ]
    }
   ],
   "source": [
    "from sklearn.metrics import classification_report  \n",
    "print(classification_report(y_test, y_pred_svc))"
   ]
  },
  {
   "cell_type": "code",
   "execution_count": 29,
   "metadata": {},
   "outputs": [
    {
     "name": "stdout",
     "output_type": "stream",
     "text": [
      "acuracy: 0.5481171548117155\n"
     ]
    }
   ],
   "source": [
    "from sklearn import metrics\n",
    "#accuracy\n",
    "print(\"acuracy:\", metrics.accuracy_score(y_test,y_pred_svc))"
   ]
  },
  {
   "cell_type": "markdown",
   "metadata": {},
   "source": [
    "#### Hyperparameter Tuning SVM"
   ]
  },
  {
   "cell_type": "code",
   "execution_count": 30,
   "metadata": {},
   "outputs": [
    {
     "name": "stdout",
     "output_type": "stream",
     "text": [
      "Fitting 5 folds for each of 25 candidates, totalling 125 fits\n"
     ]
    },
    {
     "data": {
      "text/plain": [
       "GridSearchCV(estimator=SVC(),\n",
       "             param_grid={'C': [0.1, 1, 10, 100, 1000],\n",
       "                         'gamma': [1, 0.1, 0.01, 0.001, 0.0001],\n",
       "                         'kernel': ['rbf']},\n",
       "             verbose=1)"
      ]
     },
     "execution_count": 30,
     "metadata": {},
     "output_type": "execute_result"
    }
   ],
   "source": [
    "from sklearn.model_selection import GridSearchCV          # hyperparameter tuning\n",
    "param_grid = {'C': [0.1, 1, 10, 100, 1000],\n",
    "              'gamma': [1, 0.1, 0.01, 0.001, 0.0001],\n",
    "              'kernel': ['rbf']}\n",
    "\n",
    "grid_svc = GridSearchCV(svc, param_grid, refit=True, verbose=1)\n",
    "\n",
    "grid_svc.fit(X_train_SMOTE, y_train_SMOTE)"
   ]
  },
  {
   "cell_type": "code",
   "execution_count": 31,
   "metadata": {},
   "outputs": [
    {
     "data": {
      "text/plain": [
       "{'C': 100, 'gamma': 1, 'kernel': 'rbf'}"
      ]
     },
     "execution_count": 31,
     "metadata": {},
     "output_type": "execute_result"
    }
   ],
   "source": [
    "grid_svc.best_params_"
   ]
  },
  {
   "cell_type": "code",
   "execution_count": 32,
   "metadata": {},
   "outputs": [],
   "source": [
    "# Membuat ulang model SVC\n",
    "\n",
    "svc_new = SVC(C=100, gamma=1, kernel='rbf')\n",
    "\n",
    "svc_new.fit(X_train_SMOTE, y_train_SMOTE)\n",
    "\n",
    "y_pred_svc_new = svc_new.predict(X_test)"
   ]
  },
  {
   "cell_type": "code",
   "execution_count": 33,
   "metadata": {},
   "outputs": [
    {
     "name": "stdout",
     "output_type": "stream",
     "text": [
      "              precision    recall  f1-score   support\n",
      "\n",
      "         1.0       0.39      0.45      0.42       257\n",
      "         2.0       0.84      0.81      0.82       938\n",
      "\n",
      "    accuracy                           0.73      1195\n",
      "   macro avg       0.61      0.63      0.62      1195\n",
      "weighted avg       0.74      0.73      0.74      1195\n",
      "\n"
     ]
    }
   ],
   "source": [
    "print(classification_report(y_test, y_pred_svc_new))"
   ]
  },
  {
   "cell_type": "code",
   "execution_count": 55,
   "metadata": {},
   "outputs": [
    {
     "data": {
      "image/png": "[encoded data removed]",
      "text/plain": [
       "<Figure size 576x360 with 2 Axes>"
      ]
     },
     "metadata": {
      "needs_background": "light"
     },
     "output_type": "display_data"
    }
   ],
   "source": [
    "import seaborn as sns\n",
    "f, ax = plt.subplots(figsize=(8,5))\n",
    "sns.heatmap(confusion_matrix(y_test, y_pred_svc_new), annot=True, fmt=\".0f\", ax=ax)\n",
    "plt.xlabel(\"y_head\")\n",
    "plt.ylabel(\"y_true\")\n",
    "plt.show()"
   ]
  },
  {
   "cell_type": "code",
   "execution_count": 35,
   "metadata": {},
   "outputs": [
    {
     "name": "stdout",
     "output_type": "stream",
     "text": [
      "acuracy: 0.7288702928870293\n"
     ]
    }
   ],
   "source": [
    "from sklearn import metrics\n",
    "#accuracy\n",
    "print(\"acuracy:\", metrics.accuracy_score(y_test,y_pred_svc_new))"
   ]
  },
  {
   "cell_type": "markdown",
   "metadata": {},
   "source": [
    "### Gradient Boosting"
   ]
  },
  {
   "cell_type": "code",
   "execution_count": 41,
   "metadata": {},
   "outputs": [],
   "source": [
    "from sklearn.ensemble import GradientBoostingClassifier\n",
    "\n",
    "gbc = GradientBoostingClassifier()"
   ]
  },
  {
   "cell_type": "code",
   "execution_count": 42,
   "metadata": {},
   "outputs": [],
   "source": [
    "gbc.fit(X_train_SMOTE, y_train_SMOTE)\n",
    "y_pred_gbc = gbc.predict(X_test)"
   ]
  },
  {
   "cell_type": "code",
   "execution_count": 43,
   "metadata": {},
   "outputs": [
    {
     "data": {
      "image/png": "[encoded data removed]",
      "text/plain": [
       "<Figure size 576x360 with 2 Axes>"
      ]
     },
     "metadata": {
      "needs_background": "light"
     },
     "output_type": "display_data"
    }
   ],
   "source": [
    "import seaborn as sns\n",
    "f, ax = plt.subplots(figsize=(8,5))\n",
    "sns.heatmap(confusion_matrix(y_test, y_pred_gbc), annot=True, fmt=\".0f\", ax=ax)\n",
    "plt.xlabel(\"y_head\")\n",
    "plt.ylabel(\"y_true\")\n",
    "plt.show()"
   ]
  },
  {
   "cell_type": "code",
   "execution_count": 44,
   "metadata": {},
   "outputs": [
    {
     "name": "stdout",
     "output_type": "stream",
     "text": [
      "acuracy: 0.6903765690376569\n"
     ]
    }
   ],
   "source": [
    "from sklearn import metrics\n",
    "#accuracy\n",
    "print(\"acuracy:\", metrics.accuracy_score(y_test,y_pred_gbc))"
   ]
  },
  {
   "cell_type": "code",
   "execution_count": 45,
   "metadata": {},
   "outputs": [
    {
     "name": "stdout",
     "output_type": "stream",
     "text": [
      "              precision    recall  f1-score   support\n",
      "\n",
      "         1.0       0.36      0.56      0.44       257\n",
      "         2.0       0.86      0.73      0.79       938\n",
      "\n",
      "    accuracy                           0.69      1195\n",
      "   macro avg       0.61      0.64      0.61      1195\n",
      "weighted avg       0.75      0.69      0.71      1195\n",
      "\n"
     ]
    }
   ],
   "source": [
    "from sklearn.metrics import classification_report  \n",
    "print(classification_report(y_test, y_pred_gbc))"
   ]
  },
  {
   "cell_type": "markdown",
   "metadata": {},
   "source": [
    "#### Hyperparameter Tuning"
   ]
  },
  {
   "cell_type": "code",
   "execution_count": 46,
   "metadata": {},
   "outputs": [],
   "source": [
    "gbc = GradientBoostingClassifier()\n",
    "parameters = {\n",
    "    \"n_estimators\":[5,50,250,500],\n",
    "    \"max_depth\":[1,3,5,7,9],\n",
    "    \"learning_rate\":[0.01,0.1,1,10,100]\n",
    "}"
   ]
  },
  {
   "cell_type": "code",
   "execution_count": 47,
   "metadata": {},
   "outputs": [
    {
     "data": {
      "text/plain": [
       "GridSearchCV(cv=5, estimator=GradientBoostingClassifier(),\n",
       "             param_grid={'learning_rate': [0.01, 0.1, 1, 10, 100],\n",
       "                         'max_depth': [1, 3, 5, 7, 9],\n",
       "                         'n_estimators': [5, 50, 250, 500]})"
      ]
     },
     "execution_count": 47,
     "metadata": {},
     "output_type": "execute_result"
    }
   ],
   "source": [
    "from sklearn.model_selection import GridSearchCV\n",
    "cv = GridSearchCV(gbc,parameters,cv=5)\n",
    "cv.fit(X_train_SMOTE,y_train_SMOTE)"
   ]
  },
  {
   "cell_type": "code",
   "execution_count": 48,
   "metadata": {},
   "outputs": [],
   "source": [
    "def display(results):\n",
    "    print(f'Best parameters are: {results.best_params_}')\n",
    "    print(\"\\n\")\n",
    "    mean_score = results.cv_results_['mean_test_score']\n",
    "    std_score = results.cv_results_['std_test_score']\n",
    "    params = results.cv_results_['params']\n",
    "    for mean,std,params in zip(mean_score,std_score,params):\n",
    "        print(f'{round(mean,3)} + or -{round(std,3)} for the {params}')"
   ]
  },
  {
   "cell_type": "code",
   "execution_count": 49,
   "metadata": {},
   "outputs": [
    {
     "name": "stdout",
     "output_type": "stream",
     "text": [
      "Best parameters are: {'learning_rate': 0.1, 'max_depth': 9, 'n_estimators': 500}\n",
      "\n",
      "\n",
      "0.659 + or -0.018 for the {'learning_rate': 0.01, 'max_depth': 1, 'n_estimators': 5}\n",
      "0.659 + or -0.018 for the {'learning_rate': 0.01, 'max_depth': 1, 'n_estimators': 50}\n",
      "0.66 + or -0.016 for the {'learning_rate': 0.01, 'max_depth': 1, 'n_estimators': 250}\n",
      "0.66 + or -0.014 for the {'learning_rate': 0.01, 'max_depth': 1, 'n_estimators': 500}\n",
      "0.689 + or -0.022 for the {'learning_rate': 0.01, 'max_depth': 3, 'n_estimators': 5}\n",
      "0.686 + or -0.022 for the {'learning_rate': 0.01, 'max_depth': 3, 'n_estimators': 50}\n",
      "0.704 + or -0.024 for the {'learning_rate': 0.01, 'max_depth': 3, 'n_estimators': 250}\n",
      "0.733 + or -0.034 for the {'learning_rate': 0.01, 'max_depth': 3, 'n_estimators': 500}\n",
      "0.696 + or -0.025 for the {'learning_rate': 0.01, 'max_depth': 5, 'n_estimators': 5}\n",
      "0.697 + or -0.023 for the {'learning_rate': 0.01, 'max_depth': 5, 'n_estimators': 50}\n",
      "0.752 + or -0.045 for the {'learning_rate': 0.01, 'max_depth': 5, 'n_estimators': 250}\n",
      "0.776 + or -0.056 for the {'learning_rate': 0.01, 'max_depth': 5, 'n_estimators': 500}\n",
      "0.721 + or -0.033 for the {'learning_rate': 0.01, 'max_depth': 7, 'n_estimators': 5}\n",
      "0.73 + or -0.031 for the {'learning_rate': 0.01, 'max_depth': 7, 'n_estimators': 50}\n",
      "0.782 + or -0.049 for the {'learning_rate': 0.01, 'max_depth': 7, 'n_estimators': 250}\n",
      "0.802 + or -0.06 for the {'learning_rate': 0.01, 'max_depth': 7, 'n_estimators': 500}\n",
      "0.751 + or -0.036 for the {'learning_rate': 0.01, 'max_depth': 9, 'n_estimators': 5}\n",
      "0.761 + or -0.037 for the {'learning_rate': 0.01, 'max_depth': 9, 'n_estimators': 50}\n",
      "0.796 + or -0.053 for the {'learning_rate': 0.01, 'max_depth': 9, 'n_estimators': 250}\n",
      "0.807 + or -0.06 for the {'learning_rate': 0.01, 'max_depth': 9, 'n_estimators': 500}\n",
      "0.659 + or -0.018 for the {'learning_rate': 0.1, 'max_depth': 1, 'n_estimators': 5}\n",
      "0.66 + or -0.014 for the {'learning_rate': 0.1, 'max_depth': 1, 'n_estimators': 50}\n",
      "0.69 + or -0.021 for the {'learning_rate': 0.1, 'max_depth': 1, 'n_estimators': 250}\n",
      "0.699 + or -0.025 for the {'learning_rate': 0.1, 'max_depth': 1, 'n_estimators': 500}\n",
      "0.686 + or -0.022 for the {'learning_rate': 0.1, 'max_depth': 3, 'n_estimators': 5}\n",
      "0.734 + or -0.038 for the {'learning_rate': 0.1, 'max_depth': 3, 'n_estimators': 50}\n",
      "0.788 + or -0.07 for the {'learning_rate': 0.1, 'max_depth': 3, 'n_estimators': 250}\n",
      "0.794 + or -0.08 for the {'learning_rate': 0.1, 'max_depth': 3, 'n_estimators': 500}\n",
      "0.7 + or -0.026 for the {'learning_rate': 0.1, 'max_depth': 5, 'n_estimators': 5}\n",
      "0.781 + or -0.052 for the {'learning_rate': 0.1, 'max_depth': 5, 'n_estimators': 50}\n",
      "0.804 + or -0.08 for the {'learning_rate': 0.1, 'max_depth': 5, 'n_estimators': 250}\n",
      "0.805 + or -0.08 for the {'learning_rate': 0.1, 'max_depth': 5, 'n_estimators': 500}\n",
      "0.729 + or -0.032 for the {'learning_rate': 0.1, 'max_depth': 7, 'n_estimators': 5}\n",
      "0.802 + or -0.058 for the {'learning_rate': 0.1, 'max_depth': 7, 'n_estimators': 50}\n",
      "0.809 + or -0.074 for the {'learning_rate': 0.1, 'max_depth': 7, 'n_estimators': 250}\n",
      "0.809 + or -0.073 for the {'learning_rate': 0.1, 'max_depth': 7, 'n_estimators': 500}\n",
      "0.765 + or -0.04 for the {'learning_rate': 0.1, 'max_depth': 9, 'n_estimators': 5}\n",
      "0.806 + or -0.06 for the {'learning_rate': 0.1, 'max_depth': 9, 'n_estimators': 50}\n",
      "0.81 + or -0.07 for the {'learning_rate': 0.1, 'max_depth': 9, 'n_estimators': 250}\n",
      "0.81 + or -0.069 for the {'learning_rate': 0.1, 'max_depth': 9, 'n_estimators': 500}\n",
      "0.661 + or -0.021 for the {'learning_rate': 1, 'max_depth': 1, 'n_estimators': 5}\n",
      "0.709 + or -0.029 for the {'learning_rate': 1, 'max_depth': 1, 'n_estimators': 50}\n",
      "0.741 + or -0.055 for the {'learning_rate': 1, 'max_depth': 1, 'n_estimators': 250}\n",
      "0.749 + or -0.06 for the {'learning_rate': 1, 'max_depth': 1, 'n_estimators': 500}\n",
      "0.715 + or -0.038 for the {'learning_rate': 1, 'max_depth': 3, 'n_estimators': 5}\n",
      "0.796 + or -0.074 for the {'learning_rate': 1, 'max_depth': 3, 'n_estimators': 50}\n",
      "0.805 + or -0.08 for the {'learning_rate': 1, 'max_depth': 3, 'n_estimators': 250}\n",
      "0.801 + or -0.08 for the {'learning_rate': 1, 'max_depth': 3, 'n_estimators': 500}\n",
      "0.762 + or -0.051 for the {'learning_rate': 1, 'max_depth': 5, 'n_estimators': 5}\n",
      "0.806 + or -0.076 for the {'learning_rate': 1, 'max_depth': 5, 'n_estimators': 50}\n",
      "0.806 + or -0.077 for the {'learning_rate': 1, 'max_depth': 5, 'n_estimators': 250}\n",
      "0.807 + or -0.072 for the {'learning_rate': 1, 'max_depth': 5, 'n_estimators': 500}\n",
      "0.79 + or -0.062 for the {'learning_rate': 1, 'max_depth': 7, 'n_estimators': 5}\n",
      "0.804 + or -0.07 for the {'learning_rate': 1, 'max_depth': 7, 'n_estimators': 50}\n",
      "0.806 + or -0.069 for the {'learning_rate': 1, 'max_depth': 7, 'n_estimators': 250}\n",
      "0.806 + or -0.063 for the {'learning_rate': 1, 'max_depth': 7, 'n_estimators': 500}\n",
      "0.797 + or -0.064 for the {'learning_rate': 1, 'max_depth': 9, 'n_estimators': 5}\n",
      "0.809 + or -0.069 for the {'learning_rate': 1, 'max_depth': 9, 'n_estimators': 50}\n",
      "0.809 + or -0.056 for the {'learning_rate': 1, 'max_depth': 9, 'n_estimators': 250}\n",
      "0.807 + or -0.056 for the {'learning_rate': 1, 'max_depth': 9, 'n_estimators': 500}\n",
      "0.351 + or -0.016 for the {'learning_rate': 10, 'max_depth': 1, 'n_estimators': 5}\n",
      "0.351 + or -0.016 for the {'learning_rate': 10, 'max_depth': 1, 'n_estimators': 50}\n",
      "0.351 + or -0.016 for the {'learning_rate': 10, 'max_depth': 1, 'n_estimators': 250}\n",
      "0.351 + or -0.016 for the {'learning_rate': 10, 'max_depth': 1, 'n_estimators': 500}\n",
      "0.376 + or -0.04 for the {'learning_rate': 10, 'max_depth': 3, 'n_estimators': 5}\n",
      "0.379 + or -0.046 for the {'learning_rate': 10, 'max_depth': 3, 'n_estimators': 50}\n",
      "0.379 + or -0.046 for the {'learning_rate': 10, 'max_depth': 3, 'n_estimators': 250}\n",
      "0.379 + or -0.046 for the {'learning_rate': 10, 'max_depth': 3, 'n_estimators': 500}\n",
      "0.442 + or -0.056 for the {'learning_rate': 10, 'max_depth': 5, 'n_estimators': 5}\n",
      "0.442 + or -0.056 for the {'learning_rate': 10, 'max_depth': 5, 'n_estimators': 50}\n",
      "0.442 + or -0.056 for the {'learning_rate': 10, 'max_depth': 5, 'n_estimators': 250}\n",
      "0.442 + or -0.056 for the {'learning_rate': 10, 'max_depth': 5, 'n_estimators': 500}\n",
      "0.514 + or -0.037 for the {'learning_rate': 10, 'max_depth': 7, 'n_estimators': 5}\n",
      "0.508 + or -0.051 for the {'learning_rate': 10, 'max_depth': 7, 'n_estimators': 50}\n",
      "0.512 + or -0.052 for the {'learning_rate': 10, 'max_depth': 7, 'n_estimators': 250}\n",
      "0.509 + or -0.051 for the {'learning_rate': 10, 'max_depth': 7, 'n_estimators': 500}\n",
      "0.506 + or -0.029 for the {'learning_rate': 10, 'max_depth': 9, 'n_estimators': 5}\n",
      "0.5 + or -0.044 for the {'learning_rate': 10, 'max_depth': 9, 'n_estimators': 50}\n",
      "0.504 + or -0.044 for the {'learning_rate': 10, 'max_depth': 9, 'n_estimators': 250}\n",
      "0.515 + or -0.036 for the {'learning_rate': 10, 'max_depth': 9, 'n_estimators': 500}\n",
      "0.351 + or -0.016 for the {'learning_rate': 100, 'max_depth': 1, 'n_estimators': 5}\n",
      "0.351 + or -0.016 for the {'learning_rate': 100, 'max_depth': 1, 'n_estimators': 50}\n",
      "0.351 + or -0.016 for the {'learning_rate': 100, 'max_depth': 1, 'n_estimators': 250}\n",
      "0.351 + or -0.016 for the {'learning_rate': 100, 'max_depth': 1, 'n_estimators': 500}\n",
      "0.428 + or -0.014 for the {'learning_rate': 100, 'max_depth': 3, 'n_estimators': 5}\n",
      "0.428 + or -0.014 for the {'learning_rate': 100, 'max_depth': 3, 'n_estimators': 50}\n",
      "0.428 + or -0.014 for the {'learning_rate': 100, 'max_depth': 3, 'n_estimators': 250}\n",
      "0.428 + or -0.014 for the {'learning_rate': 100, 'max_depth': 3, 'n_estimators': 500}\n",
      "0.407 + or -0.046 for the {'learning_rate': 100, 'max_depth': 5, 'n_estimators': 5}\n",
      "0.407 + or -0.047 for the {'learning_rate': 100, 'max_depth': 5, 'n_estimators': 50}\n",
      "0.407 + or -0.047 for the {'learning_rate': 100, 'max_depth': 5, 'n_estimators': 250}\n",
      "0.407 + or -0.047 for the {'learning_rate': 100, 'max_depth': 5, 'n_estimators': 500}\n",
      "0.455 + or -0.043 for the {'learning_rate': 100, 'max_depth': 7, 'n_estimators': 5}\n",
      "0.461 + or -0.038 for the {'learning_rate': 100, 'max_depth': 7, 'n_estimators': 50}\n",
      "0.467 + or -0.038 for the {'learning_rate': 100, 'max_depth': 7, 'n_estimators': 250}\n",
      "0.467 + or -0.038 for the {'learning_rate': 100, 'max_depth': 7, 'n_estimators': 500}\n",
      "0.521 + or -0.041 for the {'learning_rate': 100, 'max_depth': 9, 'n_estimators': 5}\n",
      "0.519 + or -0.035 for the {'learning_rate': 100, 'max_depth': 9, 'n_estimators': 50}\n",
      "0.528 + or -0.036 for the {'learning_rate': 100, 'max_depth': 9, 'n_estimators': 250}\n",
      "0.511 + or -0.006 for the {'learning_rate': 100, 'max_depth': 9, 'n_estimators': 500}\n"
     ]
    }
   ],
   "source": [
    "display(cv)"
   ]
  },
  {
   "cell_type": "code",
   "execution_count": 50,
   "metadata": {},
   "outputs": [
    {
     "data": {
      "text/plain": [
       "{'learning_rate': 0.1, 'max_depth': 9, 'n_estimators': 500}"
      ]
     },
     "execution_count": 50,
     "metadata": {},
     "output_type": "execute_result"
    }
   ],
   "source": [
    "cv.best_params_"
   ]
  },
  {
   "cell_type": "code",
   "execution_count": 51,
   "metadata": {},
   "outputs": [],
   "source": [
    "# Membuat ulang model GradientBoost\n",
    "\n",
    "GBC_new = GradientBoostingClassifier(learning_rate=0.1,max_depth=9,n_estimators=500)\n",
    "\n",
    "GBC_new.fit(X_train_SMOTE, y_train_SMOTE)\n",
    "\n",
    "y_pred_GBC_new = GBC_new.predict(X_test)\n",
    "y_train_predict = GBC_new.predict(X_train)"
   ]
  },
  {
   "cell_type": "code",
   "execution_count": 52,
   "metadata": {},
   "outputs": [
    {
     "data": {
      "image/png": "[encoded data removed]",
      "text/plain": [
       "<Figure size 576x360 with 2 Axes>"
      ]
     },
     "metadata": {
      "needs_background": "light"
     },
     "output_type": "display_data"
    }
   ],
   "source": [
    "import seaborn as sns\n",
    "f, ax = plt.subplots(figsize=(8,5))\n",
    "sns.heatmap(confusion_matrix(y_test, y_pred_GBC_new), annot=True, fmt=\".0f\", ax=ax)\n",
    "plt.xlabel(\"y_head\")\n",
    "plt.ylabel(\"y_true\")\n",
    "plt.show()"
   ]
  },
  {
   "cell_type": "code",
   "execution_count": 53,
   "metadata": {},
   "outputs": [
    {
     "name": "stdout",
     "output_type": "stream",
     "text": [
      "acuracy: 0.7514644351464436\n"
     ]
    }
   ],
   "source": [
    "from sklearn import metrics\n",
    "#accuracy\n",
    "print(\"acuracy:\", metrics.accuracy_score(y_test,y_pred_GBC_new))"
   ]
  },
  {
   "cell_type": "code",
   "execution_count": 54,
   "metadata": {},
   "outputs": [
    {
     "name": "stdout",
     "output_type": "stream",
     "text": [
      "              precision    recall  f1-score   support\n",
      "\n",
      "         1.0       0.42      0.41      0.42       257\n",
      "         2.0       0.84      0.84      0.84       938\n",
      "\n",
      "    accuracy                           0.75      1195\n",
      "   macro avg       0.63      0.63      0.63      1195\n",
      "weighted avg       0.75      0.75      0.75      1195\n",
      "\n"
     ]
    }
   ],
   "source": [
    "from sklearn.metrics import classification_report  \n",
    "print(classification_report(y_test, y_pred_GBC_new))"
   ]
  }
 ],
 "metadata": {
  "interpreter": {
   "hash": "63158dda7d715170746866a10f8652b2f57dbb0d1af31d9fec1021acfe5f5d74"
  },
  "kernelspec": {
   "display_name": "Python 3.8.8 64-bit ('base': conda)",
   "language": "python",
   "name": "python3"
  },
  "language_info": {
   "codemirror_mode": {
    "name": "ipython",
    "version": 3
   },
   "file_extension": ".py",
   "mimetype": "text/x-python",
   "name": "python",
   "nbconvert_exporter": "python",
   "pygments_lexer": "ipython3",
   "version": "3.8.8"
  },
  "orig_nbformat": 4
 },
 "nbformat": 4,
 "nbformat_minor": 2
}
